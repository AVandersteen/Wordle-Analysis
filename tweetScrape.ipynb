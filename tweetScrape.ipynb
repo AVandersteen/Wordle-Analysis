{
 "cells": [
  {
   "cell_type": "markdown",
   "metadata": {},
   "source": [
    "#Retrieving Twitter Wordle scores\n",
    "\n",
    "The function of this script is to retrieve Wordle scores from Twitter, assess them for their validity, and upload them to a SQL server hosted on my computer."
   ]
  },
  {
   "cell_type": "code",
   "execution_count": 2,
   "metadata": {},
   "outputs": [],
   "source": [
    "import tweepy\n",
    "import pandas as pd\n",
    "import numpy as np\n",
    "import pyodbc\n",
    "import secret"
   ]
  },
  {
   "cell_type": "markdown",
   "metadata": {},
   "source": [
    "##Connecting to the Twitter API and retrieving search results\n",
    "\n",
    "In order to retrieve a list of Twitter search results, I first have to connect to the server. In this case, I've used a Bearer Token specific to my Twitter account.\n",
    "\n",
    "After completing a Wordle, the game allows you to share a text of your game's results, which proud (or angry) players do to Twitter quite frequently. To find these scores, I specifically searched for the word \"Wordle\" and number \"6.\" As seen below, each game report starts with \"Wordle\" followed by the day and score out of six. Since the day and score change day-to-day and by player, I limited my search results to the constants within the score reports\n",
    "\n",
    "**Wordle** 345 3/**6**\n",
    "\n",
    "🟩⬛🟩⬛🟨<br>\n",
    "⬛⬛⬛⬛⬛<br>\n",
    "🟩🟩🟩🟩🟩<br>\n",
    "\n",
    "*An example board after completing the Wordle and the terms searched for*"
   ]
  },
  {
   "cell_type": "code",
   "execution_count": 3,
   "metadata": {},
   "outputs": [],
   "source": [
    "#accessing the Twitter API\n",
    "client = tweepy.Client(bearer_token = secret.BEARER)"
   ]
  },
  {
   "cell_type": "code",
   "execution_count": 4,
   "metadata": {},
   "outputs": [],
   "source": [
    "#specifying query for searching Twitter\n",
    "query = 'Wordle 6 -is:retweet'\n",
    "\n",
    "#searching tweets per the query\n",
    "tweets = client.search_recent_tweets(query=query,max_results= 100, tweet_fields=['author_id', 'created_at','geo'])"
   ]
  },
  {
   "cell_type": "markdown",
   "metadata": {},
   "source": [
    "##Loading Tweet information into a data frame"
   ]
  },
  {
   "cell_type": "code",
   "execution_count": 5,
   "metadata": {},
   "outputs": [
    {
     "data": {
      "text/html": [
       "<div>\n",
       "<style scoped>\n",
       "    .dataframe tbody tr th:only-of-type {\n",
       "        vertical-align: middle;\n",
       "    }\n",
       "\n",
       "    .dataframe tbody tr th {\n",
       "        vertical-align: top;\n",
       "    }\n",
       "\n",
       "    .dataframe thead th {\n",
       "        text-align: right;\n",
       "    }\n",
       "</style>\n",
       "<table border=\"1\" class=\"dataframe\">\n",
       "  <thead>\n",
       "    <tr style=\"text-align: right;\">\n",
       "      <th></th>\n",
       "      <th>ID</th>\n",
       "      <th>Author</th>\n",
       "    </tr>\n",
       "  </thead>\n",
       "  <tbody>\n",
       "    <tr>\n",
       "      <th>0</th>\n",
       "      <td>1536459683212443649</td>\n",
       "      <td>1319940115494543361</td>\n",
       "    </tr>\n",
       "    <tr>\n",
       "      <th>1</th>\n",
       "      <td>1536459681723465729</td>\n",
       "      <td>9724842</td>\n",
       "    </tr>\n",
       "    <tr>\n",
       "      <th>2</th>\n",
       "      <td>1536459659133210624</td>\n",
       "      <td>154500670</td>\n",
       "    </tr>\n",
       "    <tr>\n",
       "      <th>3</th>\n",
       "      <td>1536459658508087301</td>\n",
       "      <td>1525144791683584000</td>\n",
       "    </tr>\n",
       "    <tr>\n",
       "      <th>4</th>\n",
       "      <td>1536459655810981888</td>\n",
       "      <td>348244925</td>\n",
       "    </tr>\n",
       "    <tr>\n",
       "      <th>5</th>\n",
       "      <td>1536459655752318976</td>\n",
       "      <td>1093068939645644800</td>\n",
       "    </tr>\n",
       "    <tr>\n",
       "      <th>6</th>\n",
       "      <td>1536459648739717121</td>\n",
       "      <td>2458786034</td>\n",
       "    </tr>\n",
       "    <tr>\n",
       "      <th>7</th>\n",
       "      <td>1536459646407528450</td>\n",
       "      <td>1005101136</td>\n",
       "    </tr>\n",
       "    <tr>\n",
       "      <th>8</th>\n",
       "      <td>1536459638270738432</td>\n",
       "      <td>117980706</td>\n",
       "    </tr>\n",
       "    <tr>\n",
       "      <th>9</th>\n",
       "      <td>1536459632335794176</td>\n",
       "      <td>2312617050</td>\n",
       "    </tr>\n",
       "  </tbody>\n",
       "</table>\n",
       "</div>"
      ],
      "text/plain": [
       "                    ID               Author\n",
       "0  1536459683212443649  1319940115494543361\n",
       "1  1536459681723465729              9724842\n",
       "2  1536459659133210624            154500670\n",
       "3  1536459658508087301  1525144791683584000\n",
       "4  1536459655810981888            348244925\n",
       "5  1536459655752318976  1093068939645644800\n",
       "6  1536459648739717121           2458786034\n",
       "7  1536459646407528450           1005101136\n",
       "8  1536459638270738432            117980706\n",
       "9  1536459632335794176           2312617050"
      ]
     },
     "execution_count": 5,
     "metadata": {},
     "output_type": "execute_result"
    }
   ],
   "source": [
    "data = pd.DataFrame(data = [tweet.id for tweet in tweets.data], columns =['ID'])\n",
    "data['Author'] = np.array([tweet.author_id for tweet in tweets.data])\n",
    "\n",
    "data.head(10)"
   ]
  },
  {
   "cell_type": "markdown",
   "metadata": {},
   "source": [
    "For loading the scores, days, and if hard mode was activated, I found and seperated these values based on common locations and layouts of Wordle scores. By finding the location of the \"/\" I was able to locate the score, day, and hard mode based on the relative location. By finding these, I then added them to a list and then updated the Pandas DataFrame accordingly.\n",
    "\n",
    "One common issue is the abundance of Wordle clones. For varying subject matters and languages, games exist to correctly guess the NBA player, BTS lyric, or five-letter Spanish word. Most of these variants follow a different format and are filtered out, but commonly appear in the search results, so 100 records are not uploaded to the database every time the script is ran. "
   ]
  },
  {
   "cell_type": "code",
   "execution_count": 6,
   "metadata": {},
   "outputs": [],
   "source": [
    "score_arr = []\n",
    "day_arr = []\n",
    "isHard_arr = []\n",
    "\n",
    "for tweet in tweets.data:\n",
    "    score = tweet.text.find(\"/\")-1\n",
    "\n",
    "    #Determining the score for the tweet and adding it to the score array\n",
    "    if tweet.text[score].isnumeric():\n",
    "        score_arr.append(tweet.text[score])\n",
    "    else:\n",
    "        score_arr.append(0)\n",
    "\n",
    "    temp_day = tweet.text.partition(\"Wordle \")\n",
    "    day = temp_day[2][0:4]\n",
    "\n",
    "    #Finding the day associated with the tweet and marking it if the format is not correct\n",
    "    if(day[0:3].isnumeric() and day[3] == \" \"):\n",
    "        day_arr.append(day[0:3])\n",
    "    else:\n",
    "        day_arr.append('NaN')\n",
    "\n",
    "    #Determining if the user is playing on hard mode\n",
    "    if(tweet.text[score+3] == '*'):\n",
    "        isHard_arr.append(1)\n",
    "    else:\n",
    "        isHard_arr.append(0)"
   ]
  },
  {
   "cell_type": "code",
   "execution_count": 7,
   "metadata": {},
   "outputs": [],
   "source": [
    "data['WordleDay'] = day_arr\n",
    "data['Score'] = score_arr\n",
    "data['HardMode'] = isHard_arr"
   ]
  },
  {
   "cell_type": "code",
   "execution_count": 8,
   "metadata": {},
   "outputs": [
    {
     "data": {
      "text/html": [
       "<div>\n",
       "<style scoped>\n",
       "    .dataframe tbody tr th:only-of-type {\n",
       "        vertical-align: middle;\n",
       "    }\n",
       "\n",
       "    .dataframe tbody tr th {\n",
       "        vertical-align: top;\n",
       "    }\n",
       "\n",
       "    .dataframe thead th {\n",
       "        text-align: right;\n",
       "    }\n",
       "</style>\n",
       "<table border=\"1\" class=\"dataframe\">\n",
       "  <thead>\n",
       "    <tr style=\"text-align: right;\">\n",
       "      <th></th>\n",
       "      <th>ID</th>\n",
       "      <th>Author</th>\n",
       "      <th>WordleDay</th>\n",
       "      <th>Score</th>\n",
       "      <th>HardMode</th>\n",
       "    </tr>\n",
       "  </thead>\n",
       "  <tbody>\n",
       "    <tr>\n",
       "      <th>0</th>\n",
       "      <td>1536459683212443649</td>\n",
       "      <td>1319940115494543361</td>\n",
       "      <td>359</td>\n",
       "      <td>4</td>\n",
       "      <td>0</td>\n",
       "    </tr>\n",
       "    <tr>\n",
       "      <th>1</th>\n",
       "      <td>1536459681723465729</td>\n",
       "      <td>9724842</td>\n",
       "      <td>359</td>\n",
       "      <td>3</td>\n",
       "      <td>0</td>\n",
       "    </tr>\n",
       "    <tr>\n",
       "      <th>2</th>\n",
       "      <td>1536459659133210624</td>\n",
       "      <td>154500670</td>\n",
       "      <td>360</td>\n",
       "      <td>1</td>\n",
       "      <td>0</td>\n",
       "    </tr>\n",
       "    <tr>\n",
       "      <th>3</th>\n",
       "      <td>1536459658508087301</td>\n",
       "      <td>1525144791683584000</td>\n",
       "      <td>359</td>\n",
       "      <td>5</td>\n",
       "      <td>0</td>\n",
       "    </tr>\n",
       "    <tr>\n",
       "      <th>4</th>\n",
       "      <td>1536459655810981888</td>\n",
       "      <td>348244925</td>\n",
       "      <td>360</td>\n",
       "      <td>4</td>\n",
       "      <td>0</td>\n",
       "    </tr>\n",
       "    <tr>\n",
       "      <th>6</th>\n",
       "      <td>1536459648739717121</td>\n",
       "      <td>2458786034</td>\n",
       "      <td>360</td>\n",
       "      <td>4</td>\n",
       "      <td>0</td>\n",
       "    </tr>\n",
       "    <tr>\n",
       "      <th>8</th>\n",
       "      <td>1536459638270738432</td>\n",
       "      <td>117980706</td>\n",
       "      <td>360</td>\n",
       "      <td>2</td>\n",
       "      <td>1</td>\n",
       "    </tr>\n",
       "    <tr>\n",
       "      <th>9</th>\n",
       "      <td>1536459632335794176</td>\n",
       "      <td>2312617050</td>\n",
       "      <td>360</td>\n",
       "      <td>2</td>\n",
       "      <td>0</td>\n",
       "    </tr>\n",
       "    <tr>\n",
       "      <th>10</th>\n",
       "      <td>1536459631467409409</td>\n",
       "      <td>15134354</td>\n",
       "      <td>360</td>\n",
       "      <td>5</td>\n",
       "      <td>0</td>\n",
       "    </tr>\n",
       "    <tr>\n",
       "      <th>13</th>\n",
       "      <td>1536459627063304192</td>\n",
       "      <td>3697184955</td>\n",
       "      <td>359</td>\n",
       "      <td>4</td>\n",
       "      <td>0</td>\n",
       "    </tr>\n",
       "  </tbody>\n",
       "</table>\n",
       "</div>"
      ],
      "text/plain": [
       "                     ID               Author WordleDay Score  HardMode\n",
       "0   1536459683212443649  1319940115494543361       359     4         0\n",
       "1   1536459681723465729              9724842       359     3         0\n",
       "2   1536459659133210624            154500670       360     1         0\n",
       "3   1536459658508087301  1525144791683584000       359     5         0\n",
       "4   1536459655810981888            348244925       360     4         0\n",
       "6   1536459648739717121           2458786034       360     4         0\n",
       "8   1536459638270738432            117980706       360     2         1\n",
       "9   1536459632335794176           2312617050       360     2         0\n",
       "10  1536459631467409409             15134354       360     5         0\n",
       "13  1536459627063304192           3697184955       359     4         0"
      ]
     },
     "execution_count": 8,
     "metadata": {},
     "output_type": "execute_result"
    }
   ],
   "source": [
    "#Removing any scores which did not meet the criteria for a Wordle but appeared in the search results\n",
    "clean_data = data[data['WordleDay'].str.contains(\"NaN\") == False]\n",
    "\n",
    "clean_data.head(10)"
   ]
  },
  {
   "cell_type": "markdown",
   "metadata": {},
   "source": [
    "##Database upload\n",
    "\n",
    "After properly cleaning, we are left with a DataFrame ready to upload! I created a SQL database on my desktop computer and upload the values there. I've set the script to run every 30 minutes to pull down new scores, quickly aggregating a day's scores and getting a large sample size! Next, my job is to sit back and wait for scores to come in until I can analyze the data."
   ]
  },
  {
   "cell_type": "code",
   "execution_count": 9,
   "metadata": {},
   "outputs": [],
   "source": [
    "#uploading dataframe to the databse\n",
    "conn = pyodbc.connect('Driver={SQL Server};'\n",
    "                      'Server=AUSTIN-PC\\SQLEXPRESS;'\n",
    "                      'Database=WordleAnalysis;'\n",
    "                      'Trusted_Connection=yes;')\n",
    "\n",
    "cursor = conn.cursor()\n",
    "\n",
    "for index, row in clean_data.iterrows():\n",
    "    cursor.execute(\"INSERT INTO TwitterWordle (ID,Author,WordleDay,Score,HardMode) values(?,?,?,?,?)\", row.ID, row.Author, row.WordleDay, row.Score, row.HardMode)\n",
    "conn.commit()\n",
    "cursor.close()"
   ]
  }
 ],
 "metadata": {
  "interpreter": {
   "hash": "b2c3ac7596161269727ed5a29971fe4d357d2e230845cb8f4e7618128eae3832"
  },
  "kernelspec": {
   "display_name": "Python 3.10.4 ('minimal_ds')",
   "language": "python",
   "name": "python3"
  },
  "language_info": {
   "codemirror_mode": {
    "name": "ipython",
    "version": 3
   },
   "file_extension": ".py",
   "mimetype": "text/x-python",
   "name": "python",
   "nbconvert_exporter": "python",
   "pygments_lexer": "ipython3",
   "version": "3.10.4"
  },
  "orig_nbformat": 4
 },
 "nbformat": 4,
 "nbformat_minor": 2
}
